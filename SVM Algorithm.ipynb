{
 "cells": [
  {
   "cell_type": "code",
   "execution_count": 1,
   "id": "e7a506cd",
   "metadata": {},
   "outputs": [],
   "source": [
    "import pandas as pd\n",
    "import numpy as np\n",
    "import matplotlib.pyplot as plt\n",
    "from sklearn import svm\n",
    "from sklearn import metrics\n",
    "from sklearn.model_selection import train_test_split"
   ]
  },
  {
   "cell_type": "code",
   "execution_count": null,
   "id": "41ddd766",
   "metadata": {},
   "outputs": [],
   "source": [
    "read_file = pd.read_csv('study_pruned_features.csv', index_col=False)\n",
    "\n",
    "df = pd.DataFrame(read_file)\n",
    "\n",
    "# I will replace the BDI values with a 0 or 1.\n",
    "# 0 corresponds to scores less than 14; 1 corresponds to the rest.\n",
    "df['bdi_total'] = np.where(df['bdi_total'].between(0, 13.0, inclusive=True), 0.0, df['bdi_total'])\n",
    "df['bdi_total'] = np.where(df['bdi_total'] > 13.0, 1.0, df['bdi_total'])\n",
    "\n",
    "df.head()"
   ]
  },
  {
   "cell_type": "code",
   "execution_count": 3,
   "id": "b72751f6",
   "metadata": {},
   "outputs": [
    {
     "data": {
      "text/plain": [
       "0.0    98\n",
       "1.0    26\n",
       "Name: bdi_total, dtype: int64"
      ]
     },
     "execution_count": 3,
     "metadata": {},
     "output_type": "execute_result"
    }
   ],
   "source": [
    "df.loc[:,'bdi_total'].value_counts()"
   ]
  },
  {
   "cell_type": "code",
   "execution_count": null,
   "id": "7528a2dc",
   "metadata": {},
   "outputs": [],
   "source": [
    "# x-values are the genes; y-values are the BDI scores.\n",
    "X = df.loc[:, 'KLRB1':'ST6GALNAC6']\n",
    "y = df.loc[:,'bdi_total']\n",
    "\n",
    "# This normalizes the data, hopefully.\n",
    "X = (X - X.mean()) / X.std()\n",
    "\n",
    "X.head()"
   ]
  },
  {
   "cell_type": "code",
   "execution_count": 5,
   "id": "af77ff1c",
   "metadata": {},
   "outputs": [],
   "source": [
    "# This will evenly split the data.\n",
    "X_train, X_test, y_train, y_test = train_test_split(X, y, test_size=0.2, random_state=1)\n",
    "X_train, X_val, y_train, y_val = train_test_split(X_train, y_train, test_size=0.25, random_state=1)"
   ]
  },
  {
   "cell_type": "code",
   "execution_count": 6,
   "id": "1aed90dd",
   "metadata": {
    "scrolled": false
   },
   "outputs": [
    {
     "data": {
      "text/plain": [
       "0.0    60\n",
       "1.0    14\n",
       "Name: bdi_total, dtype: int64"
      ]
     },
     "execution_count": 6,
     "metadata": {},
     "output_type": "execute_result"
    }
   ],
   "source": [
    "y_train.value_counts()"
   ]
  },
  {
   "cell_type": "code",
   "execution_count": 7,
   "id": "048fa61a",
   "metadata": {},
   "outputs": [
    {
     "data": {
      "text/plain": [
       "0.0    19\n",
       "1.0     6\n",
       "Name: bdi_total, dtype: int64"
      ]
     },
     "execution_count": 7,
     "metadata": {},
     "output_type": "execute_result"
    }
   ],
   "source": [
    "y_val.value_counts()"
   ]
  },
  {
   "cell_type": "code",
   "execution_count": 8,
   "id": "784fc92a",
   "metadata": {},
   "outputs": [
    {
     "data": {
      "text/plain": [
       "0.0    19\n",
       "1.0     6\n",
       "Name: bdi_total, dtype: int64"
      ]
     },
     "execution_count": 8,
     "metadata": {},
     "output_type": "execute_result"
    }
   ],
   "source": [
    "y_test.value_counts()"
   ]
  },
  {
   "cell_type": "code",
   "execution_count": 9,
   "id": "61334d5d",
   "metadata": {},
   "outputs": [
    {
     "name": "stdout",
     "output_type": "stream",
     "text": [
      "Precision with C = 0.005: 0.26666666666666666\n",
      "Recall with C = 0.005: 0.6666666666666666\n",
      "F1 with C = 0.005: 0.3809523809523809\n",
      "\n",
      "Precision with C = 0.01: 0.08333333333333333\n",
      "Recall with C = 0.01: 0.16666666666666666\n",
      "F1 with C = 0.01: 0.1111111111111111\n",
      "\n",
      "Precision with C = 0.015: 0.09090909090909091\n",
      "Recall with C = 0.015: 0.16666666666666666\n",
      "F1 with C = 0.015: 0.11764705882352942\n",
      "\n",
      "Precision with C = 0.02: 0.1111111111111111\n",
      "Recall with C = 0.02: 0.16666666666666666\n",
      "F1 with C = 0.02: 0.13333333333333333\n",
      "\n",
      "Precision with C = 0.025: 0.0\n",
      "Recall with C = 0.025: 0.0\n",
      "F1 with C = 0.025: nan\n",
      "\n",
      "Precision with C = 0.03: 0.0\n",
      "Recall with C = 0.03: 0.0\n",
      "F1 with C = 0.03: nan\n",
      "\n",
      "Precision with C = 0.035: 0.0\n",
      "Recall with C = 0.035: 0.0\n",
      "F1 with C = 0.035: nan\n",
      "\n",
      "Precision with C = 0.04: 0.0\n",
      "Recall with C = 0.04: 0.0\n",
      "F1 with C = 0.04: nan\n",
      "\n",
      "Precision with C = 0.045: 0.0\n",
      "Recall with C = 0.045: 0.0\n",
      "F1 with C = 0.045: nan\n",
      "\n",
      "Precision with C = 0.05: 0.0\n",
      "Recall with C = 0.05: 0.0\n",
      "F1 with C = 0.05: nan\n",
      "\n",
      "Precision with C = 0.055: 0.0\n",
      "Recall with C = 0.055: 0.0\n",
      "F1 with C = 0.055: nan\n",
      "\n",
      "Precision with C = 0.06: 0.0\n",
      "Recall with C = 0.06: 0.0\n",
      "F1 with C = 0.06: nan\n",
      "\n",
      "Precision with C = 0.065: 0.2\n",
      "Recall with C = 0.065: 0.16666666666666666\n",
      "F1 with C = 0.065: 0.1818181818181818\n",
      "\n",
      "Precision with C = 0.07: 0.2\n",
      "Recall with C = 0.07: 0.16666666666666666\n",
      "F1 with C = 0.07: 0.1818181818181818\n",
      "\n",
      "Precision with C = 0.075: 0.2\n",
      "Recall with C = 0.075: 0.16666666666666666\n",
      "F1 with C = 0.075: 0.1818181818181818\n",
      "\n",
      "Precision with C = 0.08: 0.2\n",
      "Recall with C = 0.08: 0.16666666666666666\n",
      "F1 with C = 0.08: 0.1818181818181818\n",
      "\n",
      "Precision with C = 0.085: 0.2\n",
      "Recall with C = 0.085: 0.16666666666666666\n",
      "F1 with C = 0.085: 0.1818181818181818\n",
      "\n",
      "Precision with C = 0.09: 0.2\n",
      "Recall with C = 0.09: 0.16666666666666666\n",
      "F1 with C = 0.09: 0.1818181818181818\n",
      "\n",
      "Precision with C = 0.095: 0.2\n",
      "Recall with C = 0.095: 0.16666666666666666\n",
      "F1 with C = 0.095: 0.1818181818181818\n",
      "\n",
      "Precision with C = 0.1: 0.2\n",
      "Recall with C = 0.1: 0.16666666666666666\n",
      "F1 with C = 0.1: 0.1818181818181818\n",
      "\n"
     ]
    },
    {
     "name": "stderr",
     "output_type": "stream",
     "text": [
      "<ipython-input-9-2db75eb961f1>:19: RuntimeWarning: invalid value encountered in double_scalars\n",
      "  F1 = 2 * (prec_val * rec_val) / (prec_val + rec_val)\n",
      "<ipython-input-9-2db75eb961f1>:19: RuntimeWarning: invalid value encountered in double_scalars\n",
      "  F1 = 2 * (prec_val * rec_val) / (prec_val + rec_val)\n",
      "<ipython-input-9-2db75eb961f1>:19: RuntimeWarning: invalid value encountered in double_scalars\n",
      "  F1 = 2 * (prec_val * rec_val) / (prec_val + rec_val)\n",
      "<ipython-input-9-2db75eb961f1>:19: RuntimeWarning: invalid value encountered in double_scalars\n",
      "  F1 = 2 * (prec_val * rec_val) / (prec_val + rec_val)\n",
      "<ipython-input-9-2db75eb961f1>:19: RuntimeWarning: invalid value encountered in double_scalars\n",
      "  F1 = 2 * (prec_val * rec_val) / (prec_val + rec_val)\n",
      "<ipython-input-9-2db75eb961f1>:19: RuntimeWarning: invalid value encountered in double_scalars\n",
      "  F1 = 2 * (prec_val * rec_val) / (prec_val + rec_val)\n",
      "<ipython-input-9-2db75eb961f1>:19: RuntimeWarning: invalid value encountered in double_scalars\n",
      "  F1 = 2 * (prec_val * rec_val) / (prec_val + rec_val)\n",
      "<ipython-input-9-2db75eb961f1>:19: RuntimeWarning: invalid value encountered in double_scalars\n",
      "  F1 = 2 * (prec_val * rec_val) / (prec_val + rec_val)\n"
     ]
    }
   ],
   "source": [
    "C_values = [0.005, 0.01, 0.015, 0.02, 0.025, 0.03, 0.035,\n",
    "            0.04, 0.045, 0.05, 0.055, 0.06, 0.065, 0.07, 0.075,\n",
    "            0.08, 0.085, 0.09, 0.095, 0.1]\n",
    "\n",
    "for value in C_values:\n",
    "    clf = svm.SVC(C=value, kernel='linear', probability=True, class_weight={1:50})\n",
    "    clf.fit(X_train, y_train)\n",
    "\n",
    "    y_val_pred = clf.predict(X_val)\n",
    "    \n",
    "    prec_val = metrics.precision_score(y_val, y_val_pred)\n",
    "    print(\"Precision with C = \" + str(value) + \": \" +\n",
    "          str(prec_val))\n",
    "    \n",
    "    rec_val = metrics.recall_score(y_val, y_val_pred)\n",
    "    print(\"Recall with C = \" + str(value) + \": \" +\n",
    "          str(rec_val))\n",
    "    \n",
    "    F1 = 2 * (prec_val * rec_val) / (prec_val + rec_val)\n",
    "    print(\"F1 with C = \" + str(value) + \": \" +\n",
    "          str(F1) + \"\\n\")"
   ]
  },
  {
   "cell_type": "code",
   "execution_count": 10,
   "id": "461edbd4",
   "metadata": {},
   "outputs": [
    {
     "name": "stdout",
     "output_type": "stream",
     "text": [
      "[0. 1. 0. 1. 0. 1. 1. 1. 0. 1. 1. 0. 1. 0. 0. 1. 1. 1. 0. 0. 1. 0. 1. 1.\n",
      " 1.]\n",
      "5      0.0\n",
      "25     0.0\n",
      "34     0.0\n",
      "101    0.0\n",
      "84     0.0\n",
      "38     0.0\n",
      "4      0.0\n",
      "20     1.0\n",
      "1      1.0\n",
      "79     0.0\n",
      "118    0.0\n",
      "116    0.0\n",
      "47     1.0\n",
      "11     1.0\n",
      "22     0.0\n",
      "23     0.0\n",
      "60     0.0\n",
      "21     0.0\n",
      "76     0.0\n",
      "44     0.0\n",
      "69     1.0\n",
      "97     0.0\n",
      "0      1.0\n",
      "92     0.0\n",
      "123    0.0\n",
      "Name: bdi_total, dtype: float64\n",
      "Precision with C = 0.005: 0.26666666666666666\n",
      "Recall with C = 0.005: 0.6666666666666666\n",
      "F1 with C = 0.005: 0.3809523809523809\n"
     ]
    }
   ],
   "source": [
    "# A C-value of 0.005 seems to give the best precision and recall, so I'll use that.\n",
    "clf = svm.SVC(C=0.005, kernel='linear', probability=True, class_weight={1:50})\n",
    "clf.fit(X_train, y_train)\n",
    "\n",
    "y_val_pred = clf.predict(X_val)\n",
    "\n",
    "print(y_val_pred)\n",
    "print(y_val)\n",
    "    \n",
    "prec_val = metrics.precision_score(y_val, y_val_pred)\n",
    "print(\"Precision with C = \" + str(0.005) + \": \" +\n",
    "      str(prec_val))\n",
    "    \n",
    "rec_val = metrics.recall_score(y_val, y_val_pred)\n",
    "print(\"Recall with C = \" + str(0.005) + \": \" +\n",
    "      str(rec_val))\n",
    "\n",
    "F1 = 2 * (prec_val * rec_val) / (prec_val + rec_val)\n",
    "print(\"F1 with C = \" + str(0.005) + \": \" +\n",
    "      str(F1))"
   ]
  },
  {
   "cell_type": "code",
   "execution_count": 11,
   "id": "2b68754c",
   "metadata": {},
   "outputs": [
    {
     "name": "stdout",
     "output_type": "stream",
     "text": [
      "Precision with C = 0.005: 0.29411764705882354\n",
      "Recall with C = 0.005: 0.8333333333333334\n",
      "F1 with C = 0.005: 0.4347826086956522\n"
     ]
    }
   ],
   "source": [
    "clf = svm.SVC(C=0.005, kernel='linear', probability=True, class_weight={1:50})\n",
    "clf.fit(X_train, y_train)\n",
    "y_test_pred = clf.predict(X_test)\n",
    "\n",
    "prec_val = metrics.precision_score(y_test, y_test_pred)\n",
    "print(\"Precision with C = \" + str(0.005) + \": \" +\n",
    "      str(prec_val))\n",
    "    \n",
    "rec_val = metrics.recall_score(y_test, y_test_pred)\n",
    "print(\"Recall with C = \" + str(0.005) + \": \" +\n",
    "      str(rec_val))\n",
    "\n",
    "F1 = 2 * (prec_val * rec_val) / (prec_val + rec_val)\n",
    "print(\"F1 with C = \" + str(0.005) + \": \" +\n",
    "      str(F1))"
   ]
  },
  {
   "cell_type": "code",
   "execution_count": 29,
   "id": "06bd6d0d",
   "metadata": {},
   "outputs": [
    {
     "data": {
      "text/plain": [
       "<sklearn.metrics._plot.confusion_matrix.ConfusionMatrixDisplay at 0x2d2ecae9a90>"
      ]
     },
     "execution_count": 29,
     "metadata": {},
     "output_type": "execute_result"
    },
    {
     "data": {
      "image/png": "[encoded data removed]",
      "text/plain": [
       "<Figure size 432x288 with 2 Axes>"
      ]
     },
     "metadata": {
      "needs_background": "light"
     },
     "output_type": "display_data"
    }
   ],
   "source": [
    "confusion = metrics.confusion_matrix(y_test, y_test_pred, labels=clf.classes_)\n",
    "\n",
    "display = metrics.ConfusionMatrixDisplay(confusion_matrix=confusion, display_labels=clf.classes_)\n",
    "\n",
    "display.plot()"
   ]
  },
  {
   "cell_type": "code",
   "execution_count": 22,
   "id": "d4097bdf",
   "metadata": {},
   "outputs": [
    {
     "name": "stdout",
     "output_type": "stream",
     "text": [
      "0.6403508771929824\n"
     ]
    },
    {
     "data": {
      "image/png": "[encoded data removed]",
      "text/plain": [
       "<Figure size 432x288 with 1 Axes>"
      ]
     },
     "metadata": {
      "needs_background": "light"
     },
     "output_type": "display_data"
    }
   ],
   "source": [
    "prob = clf.predict_proba(X_test)[::,1]\n",
    "fpr, tpr, _ = metrics.roc_curve(y_test, prob)\n",
    "roc_auc = metrics.auc(fpr, tpr)\n",
    "\n",
    "auc = metrics.roc_auc_score(y_test, prob)\n",
    "print(auc)\n",
    "\n",
    "fig, ax = plt.subplots()\n",
    "\n",
    "ax.plot(fpr, tpr)\n",
    "\n",
    "ax.set_title(\"ROC Curve with C = 0.005\")\n",
    "ax.set_xlabel('FPR')\n",
    "ax.set_ylabel('TPR')\n",
    "\n",
    "plt.savefig(\"SVM_ROC.png\")\n",
    "\n",
    "plt.show()"
   ]
  },
  {
   "cell_type": "code",
   "execution_count": null,
   "id": "21040ef8",
   "metadata": {},
   "outputs": [],
   "source": []
  }
 ],
 "metadata": {
  "kernelspec": {
   "display_name": "Python 3",
   "language": "python",
   "name": "python3"
  },
  "language_info": {
   "codemirror_mode": {
    "name": "ipython",
    "version": 3
   },
   "file_extension": ".py",
   "mimetype": "text/x-python",
   "name": "python",
   "nbconvert_exporter": "python",
   "pygments_lexer": "ipython3",
   "version": "3.8.8"
  }
 },
 "nbformat": 4,
 "nbformat_minor": 5
}
