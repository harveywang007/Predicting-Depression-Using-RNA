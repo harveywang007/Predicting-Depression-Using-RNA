{
 "cells": [
  {
   "cell_type": "code",
   "execution_count": 1,
   "id": "72fd736b",
   "metadata": {},
   "outputs": [],
   "source": [
    "import pandas as pd\n",
    "import numpy as np\n",
    "import matplotlib.pyplot as plt\n",
    "from sklearn import metrics\n",
    "from sklearn.model_selection import train_test_split\n",
    "from scipy.stats import multivariate_normal"
   ]
  },
  {
   "cell_type": "code",
   "execution_count": null,
   "id": "758f7675",
   "metadata": {},
   "outputs": [],
   "source": [
    "# I will read the CSV file containing the narrowed-down genes.\n",
    "read_file = pd.read_csv('study_pruned_features.csv', index_col=False)\n",
    "\n",
    "df = pd.DataFrame(read_file)\n",
    "\n",
    "df = df.sort_values(by=['bdi_total'])\n",
    "\n",
    "df.head()"
   ]
  },
  {
   "cell_type": "code",
   "execution_count": 3,
   "id": "4b6efcc3",
   "metadata": {
    "scrolled": true
   },
   "outputs": [],
   "source": [
    "# I will replace the BDI values with a 0.0 or 1.0.\n",
    "# 0.0 corresponds to scores less than 14; 1.0 corresponds to the rest.\n",
    "# A BDI of 14 or above is considered depressed; anything below is not.\n",
    "# The depressed data (labelled with 1.0) will be considered anamolies.\n",
    "df['bdi_total'] = np.where(df['bdi_total'].between(0, 13.0, inclusive=True), 0.0, df['bdi_total'])\n",
    "df['bdi_total'] = np.where(df['bdi_total'] > 13.0, 1.0, df['bdi_total'])"
   ]
  },
  {
   "cell_type": "code",
   "execution_count": null,
   "id": "327719ad",
   "metadata": {},
   "outputs": [],
   "source": [
    "# I split the data up based on 0.0-values and 1.0-values.\n",
    "normal = df.iloc[:98,:]\n",
    "anomalous = df.iloc[98:,:]\n",
    "\n",
    "# I split them to randomize the normal values.\n",
    "normal = normal.sample(frac=1)\n",
    "\n",
    "# Here, I put them back together.\n",
    "together = [normal, anomalous]\n",
    "df = pd.concat(together)\n",
    "\n",
    "df.head()"
   ]
  },
  {
   "cell_type": "code",
   "execution_count": 5,
   "id": "19f62636",
   "metadata": {},
   "outputs": [],
   "source": [
    "# x-values are the genes; y-values are the converted BDI scores.\n",
    "X = df.loc[:, 'KLRB1':'ST6GALNAC6']\n",
    "y = df.loc[:,'bdi_total']\n",
    "\n",
    "# This normalizes the data.\n",
    "X = (X - X.mean()) / X.std()"
   ]
  },
  {
   "cell_type": "code",
   "execution_count": 6,
   "id": "445ac05b",
   "metadata": {},
   "outputs": [],
   "source": [
    "# This will evenly split the data.\n",
    "sixty_per = round(len(df)*0.6)\n",
    "\n",
    "X_train = X.iloc[:sixty_per]\n",
    "X_rest = X.iloc[sixty_per:]\n",
    "\n",
    "y_train = y.iloc[:sixty_per]\n",
    "y_rest = y.iloc[sixty_per:]\n",
    "\n",
    "X_val, X_test, y_val, y_test = train_test_split(X_rest, y_rest, test_size=0.5, random_state=1)"
   ]
  },
  {
   "cell_type": "code",
   "execution_count": 7,
   "id": "7d0de803",
   "metadata": {
    "scrolled": true
   },
   "outputs": [
    {
     "data": {
      "text/plain": [
       "0.0    16\n",
       "1.0     9\n",
       "Name: bdi_total, dtype: int64"
      ]
     },
     "execution_count": 7,
     "metadata": {},
     "output_type": "execute_result"
    }
   ],
   "source": [
    "y_val.value_counts()"
   ]
  },
  {
   "cell_type": "code",
   "execution_count": 8,
   "id": "5d7f7dfb",
   "metadata": {
    "scrolled": true
   },
   "outputs": [
    {
     "data": {
      "text/plain": [
       "1.0    17\n",
       "0.0     8\n",
       "Name: bdi_total, dtype: int64"
      ]
     },
     "execution_count": 8,
     "metadata": {},
     "output_type": "execute_result"
    }
   ],
   "source": [
    "y_test.value_counts()"
   ]
  },
  {
   "cell_type": "code",
   "execution_count": 9,
   "id": "79bd847f",
   "metadata": {},
   "outputs": [],
   "source": [
    "# Here, I will train the model on the training set.\n",
    "# I model it as a Guassian distribution.\n",
    "p_train = multivariate_normal.pdf(X_train, mean=X_train.mean(), cov=X_train.std())"
   ]
  },
  {
   "cell_type": "code",
   "execution_count": 10,
   "id": "7d41118e",
   "metadata": {},
   "outputs": [
    {
     "name": "stdout",
     "output_type": "stream",
     "text": [
      "The best F1-value is: 0.48484848484848486\n",
      "The best epsilon is: 1.79273542779248e-48\n"
     ]
    }
   ],
   "source": [
    "# Now, I will test the data on a cross-validation set to determine the optimal threshold, epsilon.\n",
    "# Any probability below the threshold is considered an anamoly, which should correspond to the depressed cases.\n",
    "p_val = multivariate_normal.pdf(X_val, mean=X_train.mean(), cov=X_train.std())\n",
    "\n",
    "best_epsilon = 0\n",
    "best_F1 = 0\n",
    "F1 = 0\n",
    "\n",
    "stepsize = (max(p_val) - min(p_val)) / 1000\n",
    "it_over = np.arange(min(p_val), max(p_val), stepsize)\n",
    "\n",
    "for epsilon in it_over:\n",
    "    pred = p_val < epsilon\n",
    "    F1 = metrics.f1_score(y_val, pred)\n",
    "    if F1 > best_F1:\n",
    "        best_F1 = F1\n",
    "        best_epsilon = epsilon\n",
    "        \n",
    "print(\"The best F1-value is: \" + str(best_F1))\n",
    "print(\"The best epsilon is: \" + str(best_epsilon))"
   ]
  },
  {
   "cell_type": "code",
   "execution_count": 11,
   "id": "86c3c1ce",
   "metadata": {},
   "outputs": [
    {
     "name": "stdout",
     "output_type": "stream",
     "text": [
      "The precision score is: 0.6666666666666666\n",
      "The recall score is: 0.9411764705882353\n",
      "The F1-value is: 0.7804878048780487\n"
     ]
    }
   ],
   "source": [
    "# Now that we have the threshold, let's use it on the test set!\n",
    "p_test = multivariate_normal.pdf(X_test, mean=X_train.mean(), cov=X_train.std())\n",
    "\n",
    "pred_test = p_test < best_epsilon\n",
    "\n",
    "prec_test = metrics.precision_score(y_test, pred_test)\n",
    "rec_test = metrics.recall_score(y_test, pred_test)\n",
    "F1_test = metrics.f1_score(y_test, pred_test)\n",
    "\n",
    "print(\"The precision score is: \" + str(prec_test))\n",
    "print(\"The recall score is: \" + str(rec_test))\n",
    "print(\"The F1-value is: \" + str(F1_test))"
   ]
  },
  {
   "cell_type": "code",
   "execution_count": 12,
   "id": "6a606fda",
   "metadata": {},
   "outputs": [
    {
     "data": {
      "text/plain": [
       "<sklearn.metrics._plot.confusion_matrix.ConfusionMatrixDisplay at 0x1844fb29280>"
      ]
     },
     "execution_count": 12,
     "metadata": {},
     "output_type": "execute_result"
    },
    {
     "data": {
      "image/png": "[encoded data removed]",
      "text/plain": [
       "<Figure size 432x288 with 2 Axes>"
      ]
     },
     "metadata": {
      "needs_background": "light"
     },
     "output_type": "display_data"
    }
   ],
   "source": [
    "# Let's print the confusion matrix.\n",
    "confusion = metrics.confusion_matrix(y_test, pred_test, labels=[0.0,1.0])\n",
    "\n",
    "display = metrics.ConfusionMatrixDisplay(confusion_matrix=confusion, display_labels=[0.0,1.0])\n",
    "\n",
    "display.plot()"
   ]
  }
 ],
 "metadata": {
  "kernelspec": {
   "display_name": "Python 3",
   "language": "python",
   "name": "python3"
  },
  "language_info": {
   "codemirror_mode": {
    "name": "ipython",
    "version": 3
   },
   "file_extension": ".py",
   "mimetype": "text/x-python",
   "name": "python",
   "nbconvert_exporter": "python",
   "pygments_lexer": "ipython3",
   "version": "3.8.8"
  }
 },
 "nbformat": 4,
 "nbformat_minor": 5
}
